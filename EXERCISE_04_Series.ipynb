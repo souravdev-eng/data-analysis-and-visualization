{
 "cells": [
  {
   "cell_type": "markdown",
   "id": "fd53be39",
   "metadata": {},
   "source": [
    "# Series Basics Exercise\n",
    "\n",
    "**Work with the `bestsellers.csv` dataset to answer the following questions:**"
   ]
  },
  {
   "cell_type": "markdown",
   "id": "bf9e627e",
   "metadata": {},
   "source": [
    "## Part 1\n",
    "* Retrieve a series that contains the book Names\n",
    "* Retrieve a series that contains the User Ratings\n",
    "* Retrieve the first 8 Authors"
   ]
  },
  {
   "cell_type": "code",
   "execution_count": 1,
   "id": "aafe3c0c",
   "metadata": {},
   "outputs": [],
   "source": [
    "import pandas as pd"
   ]
  },
  {
   "cell_type": "code",
   "execution_count": 3,
   "id": "0cff68d0",
   "metadata": {},
   "outputs": [
    {
     "data": {
      "text/plain": [
       "0                          10-Day Green Smoothie Cleanse\n",
       "1                                      11/22/63: A Novel\n",
       "2                12 Rules for Life: An Antidote to Chaos\n",
       "3                                 1984 (Signet Classics)\n",
       "4      5,000 Awesome Facts (About Everything!) (Natio...\n",
       "                             ...                        \n",
       "545         Wrecking Ball (Diary of a Wimpy Kid Book 14)\n",
       "546    You Are a Badass: How to Stop Doubting Your Gr...\n",
       "547    You Are a Badass: How to Stop Doubting Your Gr...\n",
       "548    You Are a Badass: How to Stop Doubting Your Gr...\n",
       "549    You Are a Badass: How to Stop Doubting Your Gr...\n",
       "Name: Name, Length: 550, dtype: object"
      ]
     },
     "execution_count": 3,
     "metadata": {},
     "output_type": "execute_result"
    }
   ],
   "source": [
    "best_seller = pd.read_csv(\"data/bestsellers.csv\");\n",
    "best_seller[\"Name\"]"
   ]
  },
  {
   "cell_type": "code",
   "execution_count": 4,
   "id": "d1066168",
   "metadata": {},
   "outputs": [
    {
     "data": {
      "text/plain": [
       "0      4.7\n",
       "1      4.6\n",
       "2      4.7\n",
       "3      4.7\n",
       "4      4.8\n",
       "      ... \n",
       "545    4.9\n",
       "546    4.7\n",
       "547    4.7\n",
       "548    4.7\n",
       "549    4.7\n",
       "Name: User Rating, Length: 550, dtype: float64"
      ]
     },
     "execution_count": 4,
     "metadata": {},
     "output_type": "execute_result"
    }
   ],
   "source": [
    "best_seller[\"User Rating\"]"
   ]
  },
  {
   "cell_type": "code",
   "execution_count": 5,
   "id": "c84a14ca",
   "metadata": {},
   "outputs": [
    {
     "data": {
      "text/plain": [
       "0                    JJ Smith\n",
       "1                Stephen King\n",
       "2          Jordan B. Peterson\n",
       "3               George Orwell\n",
       "4    National Geographic Kids\n",
       "5         George R. R. Martin\n",
       "6         George R. R. Martin\n",
       "7                 Amor Towles\n",
       "Name: Author, dtype: object"
      ]
     },
     "execution_count": 5,
     "metadata": {},
     "output_type": "execute_result"
    }
   ],
   "source": [
    "best_seller[\"Author\"].head(8)"
   ]
  },
  {
   "cell_type": "markdown",
   "id": "2f778d1b",
   "metadata": {},
   "source": [
    "## Part 2\n",
    "* Find the unique Genres\n",
    "* Find the number of unique Authors\n",
    "* Find the average Price\n",
    "* Find the 10 highest prices"
   ]
  },
  {
   "cell_type": "code",
   "execution_count": 6,
   "id": "e78d09d2",
   "metadata": {},
   "outputs": [
    {
     "data": {
      "text/html": [
       "<div>\n",
       "<style scoped>\n",
       "    .dataframe tbody tr th:only-of-type {\n",
       "        vertical-align: middle;\n",
       "    }\n",
       "\n",
       "    .dataframe tbody tr th {\n",
       "        vertical-align: top;\n",
       "    }\n",
       "\n",
       "    .dataframe thead th {\n",
       "        text-align: right;\n",
       "    }\n",
       "</style>\n",
       "<table border=\"1\" class=\"dataframe\">\n",
       "  <thead>\n",
       "    <tr style=\"text-align: right;\">\n",
       "      <th></th>\n",
       "      <th>Name</th>\n",
       "      <th>Author</th>\n",
       "      <th>User Rating</th>\n",
       "      <th>Reviews</th>\n",
       "      <th>Price</th>\n",
       "      <th>Year</th>\n",
       "      <th>Genre</th>\n",
       "    </tr>\n",
       "  </thead>\n",
       "  <tbody>\n",
       "    <tr>\n",
       "      <th>0</th>\n",
       "      <td>10-Day Green Smoothie Cleanse</td>\n",
       "      <td>JJ Smith</td>\n",
       "      <td>4.7</td>\n",
       "      <td>17350</td>\n",
       "      <td>8</td>\n",
       "      <td>2016</td>\n",
       "      <td>Non Fiction</td>\n",
       "    </tr>\n",
       "    <tr>\n",
       "      <th>1</th>\n",
       "      <td>11/22/63: A Novel</td>\n",
       "      <td>Stephen King</td>\n",
       "      <td>4.6</td>\n",
       "      <td>2052</td>\n",
       "      <td>22</td>\n",
       "      <td>2011</td>\n",
       "      <td>Fiction</td>\n",
       "    </tr>\n",
       "  </tbody>\n",
       "</table>\n",
       "</div>"
      ],
      "text/plain": [
       "                            Name        Author  User Rating  Reviews  Price  \\\n",
       "0  10-Day Green Smoothie Cleanse      JJ Smith          4.7    17350      8   \n",
       "1              11/22/63: A Novel  Stephen King          4.6     2052     22   \n",
       "\n",
       "   Year        Genre  \n",
       "0  2016  Non Fiction  \n",
       "1  2011      Fiction  "
      ]
     },
     "execution_count": 6,
     "metadata": {},
     "output_type": "execute_result"
    }
   ],
   "source": [
    "best_seller.head(2)"
   ]
  },
  {
   "cell_type": "code",
   "execution_count": 7,
   "id": "a22d3729",
   "metadata": {},
   "outputs": [
    {
     "data": {
      "text/plain": [
       "array(['Non Fiction', 'Fiction'], dtype=object)"
      ]
     },
     "execution_count": 7,
     "metadata": {},
     "output_type": "execute_result"
    }
   ],
   "source": [
    "best_seller[\"Genre\"].unique()"
   ]
  },
  {
   "cell_type": "code",
   "execution_count": 27,
   "id": "d730e633",
   "metadata": {},
   "outputs": [
    {
     "data": {
      "text/plain": [
       "248"
      ]
     },
     "execution_count": 27,
     "metadata": {},
     "output_type": "execute_result"
    }
   ],
   "source": [
    "len(best_seller[\"Author\"].unique())"
   ]
  },
  {
   "cell_type": "code",
   "execution_count": 12,
   "id": "48910b31",
   "metadata": {},
   "outputs": [
    {
     "data": {
      "text/plain": [
       "13.1"
      ]
     },
     "execution_count": 12,
     "metadata": {},
     "output_type": "execute_result"
    }
   ],
   "source": [
    "best_seller[\"Price\"].mean()"
   ]
  },
  {
   "cell_type": "code",
   "execution_count": 24,
   "id": "01cf624d",
   "metadata": {},
   "outputs": [
    {
     "data": {
      "text/html": [
       "<div>\n",
       "<style scoped>\n",
       "    .dataframe tbody tr th:only-of-type {\n",
       "        vertical-align: middle;\n",
       "    }\n",
       "\n",
       "    .dataframe tbody tr th {\n",
       "        vertical-align: top;\n",
       "    }\n",
       "\n",
       "    .dataframe thead th {\n",
       "        text-align: right;\n",
       "    }\n",
       "</style>\n",
       "<table border=\"1\" class=\"dataframe\">\n",
       "  <thead>\n",
       "    <tr style=\"text-align: right;\">\n",
       "      <th></th>\n",
       "      <th>Name</th>\n",
       "      <th>Author</th>\n",
       "      <th>User Rating</th>\n",
       "      <th>Reviews</th>\n",
       "      <th>Price</th>\n",
       "      <th>Year</th>\n",
       "      <th>Genre</th>\n",
       "    </tr>\n",
       "  </thead>\n",
       "  <tbody>\n",
       "    <tr>\n",
       "      <th>69</th>\n",
       "      <td>Diagnostic and Statistical Manual of Mental Di...</td>\n",
       "      <td>American Psychiatric Association</td>\n",
       "      <td>4.5</td>\n",
       "      <td>6679</td>\n",
       "      <td>105</td>\n",
       "      <td>2013</td>\n",
       "      <td>Non Fiction</td>\n",
       "    </tr>\n",
       "    <tr>\n",
       "      <th>70</th>\n",
       "      <td>Diagnostic and Statistical Manual of Mental Di...</td>\n",
       "      <td>American Psychiatric Association</td>\n",
       "      <td>4.5</td>\n",
       "      <td>6679</td>\n",
       "      <td>105</td>\n",
       "      <td>2014</td>\n",
       "      <td>Non Fiction</td>\n",
       "    </tr>\n",
       "    <tr>\n",
       "      <th>473</th>\n",
       "      <td>The Twilight Saga Collection</td>\n",
       "      <td>Stephenie Meyer</td>\n",
       "      <td>4.7</td>\n",
       "      <td>3801</td>\n",
       "      <td>82</td>\n",
       "      <td>2009</td>\n",
       "      <td>Fiction</td>\n",
       "    </tr>\n",
       "    <tr>\n",
       "      <th>151</th>\n",
       "      <td>Hamilton: The Revolution</td>\n",
       "      <td>Lin-Manuel Miranda</td>\n",
       "      <td>4.9</td>\n",
       "      <td>5867</td>\n",
       "      <td>54</td>\n",
       "      <td>2016</td>\n",
       "      <td>Non Fiction</td>\n",
       "    </tr>\n",
       "    <tr>\n",
       "      <th>346</th>\n",
       "      <td>The Book of Basketball: The NBA According to T...</td>\n",
       "      <td>Bill Simmons</td>\n",
       "      <td>4.7</td>\n",
       "      <td>858</td>\n",
       "      <td>53</td>\n",
       "      <td>2009</td>\n",
       "      <td>Non Fiction</td>\n",
       "    </tr>\n",
       "    <tr>\n",
       "      <th>159</th>\n",
       "      <td>Harry Potter Paperback Box Set (Books 1-7)</td>\n",
       "      <td>J. K. Rowling</td>\n",
       "      <td>4.8</td>\n",
       "      <td>13471</td>\n",
       "      <td>52</td>\n",
       "      <td>2016</td>\n",
       "      <td>Fiction</td>\n",
       "    </tr>\n",
       "    <tr>\n",
       "      <th>271</th>\n",
       "      <td>Publication Manual of the American Psychologic...</td>\n",
       "      <td>American Psychological Association</td>\n",
       "      <td>4.5</td>\n",
       "      <td>8580</td>\n",
       "      <td>46</td>\n",
       "      <td>2009</td>\n",
       "      <td>Non Fiction</td>\n",
       "    </tr>\n",
       "    <tr>\n",
       "      <th>272</th>\n",
       "      <td>Publication Manual of the American Psychologic...</td>\n",
       "      <td>American Psychological Association</td>\n",
       "      <td>4.5</td>\n",
       "      <td>8580</td>\n",
       "      <td>46</td>\n",
       "      <td>2010</td>\n",
       "      <td>Non Fiction</td>\n",
       "    </tr>\n",
       "    <tr>\n",
       "      <th>273</th>\n",
       "      <td>Publication Manual of the American Psychologic...</td>\n",
       "      <td>American Psychological Association</td>\n",
       "      <td>4.5</td>\n",
       "      <td>8580</td>\n",
       "      <td>46</td>\n",
       "      <td>2011</td>\n",
       "      <td>Non Fiction</td>\n",
       "    </tr>\n",
       "    <tr>\n",
       "      <th>274</th>\n",
       "      <td>Publication Manual of the American Psychologic...</td>\n",
       "      <td>American Psychological Association</td>\n",
       "      <td>4.5</td>\n",
       "      <td>8580</td>\n",
       "      <td>46</td>\n",
       "      <td>2012</td>\n",
       "      <td>Non Fiction</td>\n",
       "    </tr>\n",
       "  </tbody>\n",
       "</table>\n",
       "</div>"
      ],
      "text/plain": [
       "                                                  Name  \\\n",
       "69   Diagnostic and Statistical Manual of Mental Di...   \n",
       "70   Diagnostic and Statistical Manual of Mental Di...   \n",
       "473                       The Twilight Saga Collection   \n",
       "151                           Hamilton: The Revolution   \n",
       "346  The Book of Basketball: The NBA According to T...   \n",
       "159         Harry Potter Paperback Box Set (Books 1-7)   \n",
       "271  Publication Manual of the American Psychologic...   \n",
       "272  Publication Manual of the American Psychologic...   \n",
       "273  Publication Manual of the American Psychologic...   \n",
       "274  Publication Manual of the American Psychologic...   \n",
       "\n",
       "                                 Author  User Rating  Reviews  Price  Year  \\\n",
       "69     American Psychiatric Association          4.5     6679    105  2013   \n",
       "70     American Psychiatric Association          4.5     6679    105  2014   \n",
       "473                     Stephenie Meyer          4.7     3801     82  2009   \n",
       "151                  Lin-Manuel Miranda          4.9     5867     54  2016   \n",
       "346                        Bill Simmons          4.7      858     53  2009   \n",
       "159                       J. K. Rowling          4.8    13471     52  2016   \n",
       "271  American Psychological Association          4.5     8580     46  2009   \n",
       "272  American Psychological Association          4.5     8580     46  2010   \n",
       "273  American Psychological Association          4.5     8580     46  2011   \n",
       "274  American Psychological Association          4.5     8580     46  2012   \n",
       "\n",
       "           Genre  \n",
       "69   Non Fiction  \n",
       "70   Non Fiction  \n",
       "473      Fiction  \n",
       "151  Non Fiction  \n",
       "346  Non Fiction  \n",
       "159      Fiction  \n",
       "271  Non Fiction  \n",
       "272  Non Fiction  \n",
       "273  Non Fiction  \n",
       "274  Non Fiction  "
      ]
     },
     "execution_count": 24,
     "metadata": {},
     "output_type": "execute_result"
    }
   ],
   "source": [
    "best_seller.nlargest(10, [\"Price\"])"
   ]
  },
  {
   "cell_type": "markdown",
   "id": "0df37adf",
   "metadata": {},
   "source": [
    "## Part 3\n",
    "* Find the top 3 most common book titles in the dataset\n",
    "* Create a new dataframe with only Author and User Rating.\n",
    "* Using the new dataframe, find the most common combination of Author and User Rating Score."
   ]
  },
  {
   "cell_type": "code",
   "execution_count": 39,
   "id": "b5b1cde1",
   "metadata": {},
   "outputs": [
    {
     "data": {
      "text/plain": [
       "Name\n",
       "Publication Manual of the American Psychological Association, 6th Edition    10\n",
       "StrengthsFinder 2.0                                                           9\n",
       "Oh, the Places You'll Go!                                                     8\n",
       "Name: count, dtype: int64"
      ]
     },
     "execution_count": 39,
     "metadata": {},
     "output_type": "execute_result"
    }
   ],
   "source": [
    "best_seller[\"Name\"].value_counts().head(3)"
   ]
  },
  {
   "cell_type": "code",
   "execution_count": 34,
   "id": "59ba321d",
   "metadata": {},
   "outputs": [
    {
     "data": {
      "text/html": [
       "<div>\n",
       "<style scoped>\n",
       "    .dataframe tbody tr th:only-of-type {\n",
       "        vertical-align: middle;\n",
       "    }\n",
       "\n",
       "    .dataframe tbody tr th {\n",
       "        vertical-align: top;\n",
       "    }\n",
       "\n",
       "    .dataframe thead th {\n",
       "        text-align: right;\n",
       "    }\n",
       "</style>\n",
       "<table border=\"1\" class=\"dataframe\">\n",
       "  <thead>\n",
       "    <tr style=\"text-align: right;\">\n",
       "      <th></th>\n",
       "      <th>Name</th>\n",
       "      <th>Author</th>\n",
       "    </tr>\n",
       "  </thead>\n",
       "  <tbody>\n",
       "    <tr>\n",
       "      <th>0</th>\n",
       "      <td>10-Day Green Smoothie Cleanse</td>\n",
       "      <td>JJ Smith</td>\n",
       "    </tr>\n",
       "    <tr>\n",
       "      <th>1</th>\n",
       "      <td>11/22/63: A Novel</td>\n",
       "      <td>Stephen King</td>\n",
       "    </tr>\n",
       "    <tr>\n",
       "      <th>2</th>\n",
       "      <td>12 Rules for Life: An Antidote to Chaos</td>\n",
       "      <td>Jordan B. Peterson</td>\n",
       "    </tr>\n",
       "    <tr>\n",
       "      <th>3</th>\n",
       "      <td>1984 (Signet Classics)</td>\n",
       "      <td>George Orwell</td>\n",
       "    </tr>\n",
       "    <tr>\n",
       "      <th>4</th>\n",
       "      <td>5,000 Awesome Facts (About Everything!) (Natio...</td>\n",
       "      <td>National Geographic Kids</td>\n",
       "    </tr>\n",
       "    <tr>\n",
       "      <th>...</th>\n",
       "      <td>...</td>\n",
       "      <td>...</td>\n",
       "    </tr>\n",
       "    <tr>\n",
       "      <th>545</th>\n",
       "      <td>Wrecking Ball (Diary of a Wimpy Kid Book 14)</td>\n",
       "      <td>Jeff Kinney</td>\n",
       "    </tr>\n",
       "    <tr>\n",
       "      <th>546</th>\n",
       "      <td>You Are a Badass: How to Stop Doubting Your Gr...</td>\n",
       "      <td>Jen Sincero</td>\n",
       "    </tr>\n",
       "    <tr>\n",
       "      <th>547</th>\n",
       "      <td>You Are a Badass: How to Stop Doubting Your Gr...</td>\n",
       "      <td>Jen Sincero</td>\n",
       "    </tr>\n",
       "    <tr>\n",
       "      <th>548</th>\n",
       "      <td>You Are a Badass: How to Stop Doubting Your Gr...</td>\n",
       "      <td>Jen Sincero</td>\n",
       "    </tr>\n",
       "    <tr>\n",
       "      <th>549</th>\n",
       "      <td>You Are a Badass: How to Stop Doubting Your Gr...</td>\n",
       "      <td>Jen Sincero</td>\n",
       "    </tr>\n",
       "  </tbody>\n",
       "</table>\n",
       "<p>550 rows × 2 columns</p>\n",
       "</div>"
      ],
      "text/plain": [
       "                                                  Name  \\\n",
       "0                        10-Day Green Smoothie Cleanse   \n",
       "1                                    11/22/63: A Novel   \n",
       "2              12 Rules for Life: An Antidote to Chaos   \n",
       "3                               1984 (Signet Classics)   \n",
       "4    5,000 Awesome Facts (About Everything!) (Natio...   \n",
       "..                                                 ...   \n",
       "545       Wrecking Ball (Diary of a Wimpy Kid Book 14)   \n",
       "546  You Are a Badass: How to Stop Doubting Your Gr...   \n",
       "547  You Are a Badass: How to Stop Doubting Your Gr...   \n",
       "548  You Are a Badass: How to Stop Doubting Your Gr...   \n",
       "549  You Are a Badass: How to Stop Doubting Your Gr...   \n",
       "\n",
       "                       Author  \n",
       "0                    JJ Smith  \n",
       "1                Stephen King  \n",
       "2          Jordan B. Peterson  \n",
       "3               George Orwell  \n",
       "4    National Geographic Kids  \n",
       "..                        ...  \n",
       "545               Jeff Kinney  \n",
       "546               Jen Sincero  \n",
       "547               Jen Sincero  \n",
       "548               Jen Sincero  \n",
       "549               Jen Sincero  \n",
       "\n",
       "[550 rows x 2 columns]"
      ]
     },
     "execution_count": 34,
     "metadata": {},
     "output_type": "execute_result"
    }
   ],
   "source": [
    "new_df = best_seller[[\"Name\",\"Author\"]]\n",
    "new_df"
   ]
  },
  {
   "cell_type": "code",
   "execution_count": 35,
   "id": "97756522",
   "metadata": {},
   "outputs": [
    {
     "data": {
      "text/html": [
       "<div>\n",
       "<style scoped>\n",
       "    .dataframe tbody tr th:only-of-type {\n",
       "        vertical-align: middle;\n",
       "    }\n",
       "\n",
       "    .dataframe tbody tr th {\n",
       "        vertical-align: top;\n",
       "    }\n",
       "\n",
       "    .dataframe thead th {\n",
       "        text-align: right;\n",
       "    }\n",
       "</style>\n",
       "<table border=\"1\" class=\"dataframe\">\n",
       "  <thead>\n",
       "    <tr style=\"text-align: right;\">\n",
       "      <th></th>\n",
       "      <th>Name</th>\n",
       "      <th>Author</th>\n",
       "    </tr>\n",
       "  </thead>\n",
       "  <tbody>\n",
       "    <tr>\n",
       "      <th>0</th>\n",
       "      <td>10-Day Green Smoothie Cleanse</td>\n",
       "      <td>JJ Smith</td>\n",
       "    </tr>\n",
       "    <tr>\n",
       "      <th>1</th>\n",
       "      <td>11/22/63: A Novel</td>\n",
       "      <td>Stephen King</td>\n",
       "    </tr>\n",
       "    <tr>\n",
       "      <th>2</th>\n",
       "      <td>12 Rules for Life: An Antidote to Chaos</td>\n",
       "      <td>Jordan B. Peterson</td>\n",
       "    </tr>\n",
       "    <tr>\n",
       "      <th>3</th>\n",
       "      <td>1984 (Signet Classics)</td>\n",
       "      <td>George Orwell</td>\n",
       "    </tr>\n",
       "    <tr>\n",
       "      <th>4</th>\n",
       "      <td>5,000 Awesome Facts (About Everything!) (Natio...</td>\n",
       "      <td>National Geographic Kids</td>\n",
       "    </tr>\n",
       "    <tr>\n",
       "      <th>...</th>\n",
       "      <td>...</td>\n",
       "      <td>...</td>\n",
       "    </tr>\n",
       "    <tr>\n",
       "      <th>545</th>\n",
       "      <td>Wrecking Ball (Diary of a Wimpy Kid Book 14)</td>\n",
       "      <td>Jeff Kinney</td>\n",
       "    </tr>\n",
       "    <tr>\n",
       "      <th>546</th>\n",
       "      <td>You Are a Badass: How to Stop Doubting Your Gr...</td>\n",
       "      <td>Jen Sincero</td>\n",
       "    </tr>\n",
       "    <tr>\n",
       "      <th>547</th>\n",
       "      <td>You Are a Badass: How to Stop Doubting Your Gr...</td>\n",
       "      <td>Jen Sincero</td>\n",
       "    </tr>\n",
       "    <tr>\n",
       "      <th>548</th>\n",
       "      <td>You Are a Badass: How to Stop Doubting Your Gr...</td>\n",
       "      <td>Jen Sincero</td>\n",
       "    </tr>\n",
       "    <tr>\n",
       "      <th>549</th>\n",
       "      <td>You Are a Badass: How to Stop Doubting Your Gr...</td>\n",
       "      <td>Jen Sincero</td>\n",
       "    </tr>\n",
       "  </tbody>\n",
       "</table>\n",
       "<p>550 rows × 2 columns</p>\n",
       "</div>"
      ],
      "text/plain": [
       "                                                  Name  \\\n",
       "0                        10-Day Green Smoothie Cleanse   \n",
       "1                                    11/22/63: A Novel   \n",
       "2              12 Rules for Life: An Antidote to Chaos   \n",
       "3                               1984 (Signet Classics)   \n",
       "4    5,000 Awesome Facts (About Everything!) (Natio...   \n",
       "..                                                 ...   \n",
       "545       Wrecking Ball (Diary of a Wimpy Kid Book 14)   \n",
       "546  You Are a Badass: How to Stop Doubting Your Gr...   \n",
       "547  You Are a Badass: How to Stop Doubting Your Gr...   \n",
       "548  You Are a Badass: How to Stop Doubting Your Gr...   \n",
       "549  You Are a Badass: How to Stop Doubting Your Gr...   \n",
       "\n",
       "                       Author  \n",
       "0                    JJ Smith  \n",
       "1                Stephen King  \n",
       "2          Jordan B. Peterson  \n",
       "3               George Orwell  \n",
       "4    National Geographic Kids  \n",
       "..                        ...  \n",
       "545               Jeff Kinney  \n",
       "546               Jen Sincero  \n",
       "547               Jen Sincero  \n",
       "548               Jen Sincero  \n",
       "549               Jen Sincero  \n",
       "\n",
       "[550 rows x 2 columns]"
      ]
     },
     "execution_count": 35,
     "metadata": {},
     "output_type": "execute_result"
    }
   ],
   "source": [
    "col = [\"Name\", \"Author\"]\n",
    "best_seller[col]"
   ]
  },
  {
   "cell_type": "markdown",
   "id": "ab43956b",
   "metadata": {},
   "source": [
    "## Part 4\n",
    "* Create a pie chart showing the total number of times each Genre appears in the dataset.\n",
    "* Find out the top 10 most prolific authors and plot their number of books as a bar plot\n",
    "* BONUS: create a histogram showing the distribution of User Rating scores"
   ]
  },
  {
   "cell_type": "code",
   "execution_count": 46,
   "id": "a0b7b790",
   "metadata": {},
   "outputs": [
    {
     "data": {
      "image/png": "[encoded data removed]",
      "text/plain": [
       "<Figure size 640x480 with 1 Axes>"
      ]
     },
     "metadata": {},
     "output_type": "display_data"
    }
   ],
   "source": [
    "best_seller[\"Genre\"].value_counts(ascending=True).plot();"
   ]
  },
  {
   "cell_type": "code",
   "execution_count": 55,
   "id": "01d15104",
   "metadata": {},
   "outputs": [
    {
     "data": {
      "image/png": "[encoded data removed]",
      "text/plain": [
       "<Figure size 640x480 with 1 Axes>"
      ]
     },
     "metadata": {},
     "output_type": "display_data"
    }
   ],
   "source": [
    "best_seller[\"Author\"].value_counts(10, [\"Name\"]).head(10).plot(kind=\"bar\");"
   ]
  },
  {
   "cell_type": "code",
   "execution_count": 58,
   "id": "b3b1627a",
   "metadata": {},
   "outputs": [
    {
     "data": {
      "image/png": "[encoded data removed]",
      "text/plain": [
       "<Figure size 640x480 with 1 Axes>"
      ]
     },
     "metadata": {},
     "output_type": "display_data"
    }
   ],
   "source": [
    "best_seller[\"Reviews\"].plot(kind=\"hist\");"
   ]
  },
  {
   "cell_type": "code",
   "execution_count": null,
   "id": "7e276f62",
   "metadata": {},
   "outputs": [],
   "source": []
  },
  {
   "cell_type": "code",
   "execution_count": null,
   "id": "69475e0b",
   "metadata": {},
   "outputs": [],
   "source": []
  }
 ],
 "metadata": {
  "kernelspec": {
   "display_name": "Python 3 (ipykernel)",
   "language": "python",
   "name": "python3"
  },
  "language_info": {
   "codemirror_mode": {
    "name": "ipython",
    "version": 3
   },
   "file_extension": ".py",
   "mimetype": "text/x-python",
   "name": "python",
   "nbconvert_exporter": "python",
   "pygments_lexer": "ipython3",
   "version": "3.11.4"
  }
 },
 "nbformat": 4,
 "nbformat_minor": 5
}
